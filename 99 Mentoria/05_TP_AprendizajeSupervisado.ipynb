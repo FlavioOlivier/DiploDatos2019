{
 "cells": [
  {
   "cell_type": "markdown",
   "metadata": {},
   "source": [
    "# Practico Mentoria - Aprendizaje Supervisado\n",
    "\n",
    "Vamos a tratar de predecir el resultado de un partido para el equipo local, es decir, si el equipo local gana (**Win**), empata (**Draw**) o pierde (**Lose**).\n",
    "<h3><FONT COLOR=\"#FF0000\"> Alumno: Flavio Olivier (Omega)</FONT></h3>\n",
    "\n",
    "---"
   ]
  },
  {
   "cell_type": "markdown",
   "metadata": {},
   "source": [
    "### Importaciones"
   ]
  },
  {
   "cell_type": "code",
   "execution_count": 1,
   "metadata": {},
   "outputs": [],
   "source": [
    "%load_ext autoreload\n",
    "%autoreload 2\n",
    "\n",
    "%matplotlib inline"
   ]
  },
  {
   "cell_type": "code",
   "execution_count": 2,
   "metadata": {},
   "outputs": [],
   "source": [
    "#paquetería...\n",
    "\n",
    "import numpy as np\n",
    "import pandas as pd\n",
    "import matplotlib.pyplot as plt\n",
    "import seaborn as sns\n",
    "import scipy as sp\n",
    "import warnings\n",
    "\n",
    "from sklearn.model_selection import train_test_split, GridSearchCV\n",
    "from sklearn.ensemble import RandomForestClassifier, AdaBoostClassifier\n",
    "from sklearn.neighbors import KNeighborsClassifier\n",
    "from sklearn.linear_model import LogisticRegression\n",
    "from sklearn.decomposition import PCA\n",
    "from sklearn.pipeline import Pipeline\n",
    "from sklearn.metrics import accuracy_score, confusion_matrix, classification_report\n",
    "\n",
    "from utils import plot_confusion_matrix\n"
   ]
  },
  {
   "cell_type": "code",
   "execution_count": 3,
   "metadata": {},
   "outputs": [],
   "source": [
    "warnings.filterwarnings('ignore')\n",
    "\n",
    "sns.set_style(\"whitegrid\")"
   ]
  },
  {
   "cell_type": "code",
   "execution_count": 4,
   "metadata": {},
   "outputs": [],
   "source": [
    "# Seteamos una semilla para Reproducibilidad\n",
    "np.random.seed(42)"
   ]
  },
  {
   "cell_type": "markdown",
   "metadata": {},
   "source": [
    "---"
   ]
  },
  {
   "cell_type": "markdown",
   "metadata": {},
   "source": [
    "### Carga del Dateset"
   ]
  },
  {
   "cell_type": "code",
   "execution_count": 5,
   "metadata": {},
   "outputs": [
    {
     "name": "stdout",
     "output_type": "stream",
     "text": [
      "Shape 'data_df'  = (322, 37)\n"
     ]
    }
   ],
   "source": [
    "#daterio...\n",
    "\n",
    "path = 'https://raw.githubusercontent.com/diplodatos2019mentoria/Aprendizaje_Supervisado/master/'\n",
    "\n",
    "data_df = pd.read_csv(path + '/Datasets/football_data.csv')\n",
    "\n",
    "print(\"Shape 'data_df'  = {}\".format(data_df.shape))\n"
   ]
  },
  {
   "cell_type": "code",
   "execution_count": 6,
   "metadata": {},
   "outputs": [
    {
     "data": {
      "text/html": [
       "<div>\n",
       "<style scoped>\n",
       "    .dataframe tbody tr th:only-of-type {\n",
       "        vertical-align: middle;\n",
       "    }\n",
       "\n",
       "    .dataframe tbody tr th {\n",
       "        vertical-align: top;\n",
       "    }\n",
       "\n",
       "    .dataframe thead th {\n",
       "        text-align: right;\n",
       "    }\n",
       "</style>\n",
       "<table border=\"1\" class=\"dataframe\">\n",
       "  <thead>\n",
       "    <tr style=\"text-align: right;\">\n",
       "      <th></th>\n",
       "      <th>home_team_goals_difference</th>\n",
       "      <th>away_team_goals_difference</th>\n",
       "      <th>games_won_home_team</th>\n",
       "      <th>games_won_away_team</th>\n",
       "      <th>games_against_won</th>\n",
       "      <th>games_against_lost</th>\n",
       "      <th>League_21518</th>\n",
       "      <th>League_24558</th>\n",
       "      <th>home_player_1_overall_rating</th>\n",
       "      <th>home_player_2_overall_rating</th>\n",
       "      <th>...</th>\n",
       "      <th>away_player_9_overall_rating</th>\n",
       "      <th>away_player_10_overall_rating</th>\n",
       "      <th>away_player_11_overall_rating</th>\n",
       "      <th>B365_Win</th>\n",
       "      <th>B365_Draw</th>\n",
       "      <th>B365_Lose</th>\n",
       "      <th>BW_Win</th>\n",
       "      <th>BW_Draw</th>\n",
       "      <th>BW_Lose</th>\n",
       "      <th>label</th>\n",
       "    </tr>\n",
       "  </thead>\n",
       "  <tbody>\n",
       "    <tr>\n",
       "      <th>0</th>\n",
       "      <td>-5</td>\n",
       "      <td>-8</td>\n",
       "      <td>2</td>\n",
       "      <td>1</td>\n",
       "      <td>0</td>\n",
       "      <td>0</td>\n",
       "      <td>1</td>\n",
       "      <td>0</td>\n",
       "      <td>77.0</td>\n",
       "      <td>69.0</td>\n",
       "      <td>...</td>\n",
       "      <td>71.0</td>\n",
       "      <td>73.0</td>\n",
       "      <td>73.0</td>\n",
       "      <td>0.395683</td>\n",
       "      <td>0.287770</td>\n",
       "      <td>0.316547</td>\n",
       "      <td>0.389704</td>\n",
       "      <td>0.287782</td>\n",
       "      <td>0.322514</td>\n",
       "      <td>Draw</td>\n",
       "    </tr>\n",
       "    <tr>\n",
       "      <th>1</th>\n",
       "      <td>4</td>\n",
       "      <td>-2</td>\n",
       "      <td>4</td>\n",
       "      <td>1</td>\n",
       "      <td>0</td>\n",
       "      <td>0</td>\n",
       "      <td>1</td>\n",
       "      <td>0</td>\n",
       "      <td>76.0</td>\n",
       "      <td>79.0</td>\n",
       "      <td>...</td>\n",
       "      <td>76.0</td>\n",
       "      <td>71.0</td>\n",
       "      <td>72.0</td>\n",
       "      <td>0.624582</td>\n",
       "      <td>0.238903</td>\n",
       "      <td>0.136516</td>\n",
       "      <td>0.612713</td>\n",
       "      <td>0.253365</td>\n",
       "      <td>0.133922</td>\n",
       "      <td>Draw</td>\n",
       "    </tr>\n",
       "    <tr>\n",
       "      <th>2</th>\n",
       "      <td>18</td>\n",
       "      <td>7</td>\n",
       "      <td>6</td>\n",
       "      <td>6</td>\n",
       "      <td>0</td>\n",
       "      <td>0</td>\n",
       "      <td>1</td>\n",
       "      <td>0</td>\n",
       "      <td>81.0</td>\n",
       "      <td>81.0</td>\n",
       "      <td>...</td>\n",
       "      <td>78.0</td>\n",
       "      <td>90.0</td>\n",
       "      <td>88.0</td>\n",
       "      <td>0.390698</td>\n",
       "      <td>0.260465</td>\n",
       "      <td>0.348837</td>\n",
       "      <td>0.380496</td>\n",
       "      <td>0.279776</td>\n",
       "      <td>0.339728</td>\n",
       "      <td>Lose</td>\n",
       "    </tr>\n",
       "    <tr>\n",
       "      <th>3</th>\n",
       "      <td>1</td>\n",
       "      <td>1</td>\n",
       "      <td>2</td>\n",
       "      <td>3</td>\n",
       "      <td>0</td>\n",
       "      <td>0</td>\n",
       "      <td>1</td>\n",
       "      <td>0</td>\n",
       "      <td>79.0</td>\n",
       "      <td>65.0</td>\n",
       "      <td>...</td>\n",
       "      <td>81.0</td>\n",
       "      <td>81.0</td>\n",
       "      <td>79.0</td>\n",
       "      <td>0.360875</td>\n",
       "      <td>0.287606</td>\n",
       "      <td>0.351519</td>\n",
       "      <td>0.354839</td>\n",
       "      <td>0.290323</td>\n",
       "      <td>0.354839</td>\n",
       "      <td>Win</td>\n",
       "    </tr>\n",
       "    <tr>\n",
       "      <th>4</th>\n",
       "      <td>1</td>\n",
       "      <td>1</td>\n",
       "      <td>3</td>\n",
       "      <td>1</td>\n",
       "      <td>0</td>\n",
       "      <td>0</td>\n",
       "      <td>1</td>\n",
       "      <td>0</td>\n",
       "      <td>74.0</td>\n",
       "      <td>73.0</td>\n",
       "      <td>...</td>\n",
       "      <td>67.0</td>\n",
       "      <td>76.0</td>\n",
       "      <td>76.0</td>\n",
       "      <td>0.651526</td>\n",
       "      <td>0.223380</td>\n",
       "      <td>0.125093</td>\n",
       "      <td>0.634855</td>\n",
       "      <td>0.224066</td>\n",
       "      <td>0.141079</td>\n",
       "      <td>Draw</td>\n",
       "    </tr>\n",
       "  </tbody>\n",
       "</table>\n",
       "<p>5 rows × 37 columns</p>\n",
       "</div>"
      ],
      "text/plain": [
       "   home_team_goals_difference  away_team_goals_difference  \\\n",
       "0                          -5                          -8   \n",
       "1                           4                          -2   \n",
       "2                          18                           7   \n",
       "3                           1                           1   \n",
       "4                           1                           1   \n",
       "\n",
       "   games_won_home_team  games_won_away_team  games_against_won  \\\n",
       "0                    2                    1                  0   \n",
       "1                    4                    1                  0   \n",
       "2                    6                    6                  0   \n",
       "3                    2                    3                  0   \n",
       "4                    3                    1                  0   \n",
       "\n",
       "   games_against_lost  League_21518  League_24558  \\\n",
       "0                   0             1             0   \n",
       "1                   0             1             0   \n",
       "2                   0             1             0   \n",
       "3                   0             1             0   \n",
       "4                   0             1             0   \n",
       "\n",
       "   home_player_1_overall_rating  home_player_2_overall_rating  ...    \\\n",
       "0                          77.0                          69.0  ...     \n",
       "1                          76.0                          79.0  ...     \n",
       "2                          81.0                          81.0  ...     \n",
       "3                          79.0                          65.0  ...     \n",
       "4                          74.0                          73.0  ...     \n",
       "\n",
       "   away_player_9_overall_rating  away_player_10_overall_rating  \\\n",
       "0                          71.0                           73.0   \n",
       "1                          76.0                           71.0   \n",
       "2                          78.0                           90.0   \n",
       "3                          81.0                           81.0   \n",
       "4                          67.0                           76.0   \n",
       "\n",
       "   away_player_11_overall_rating  B365_Win  B365_Draw  B365_Lose    BW_Win  \\\n",
       "0                           73.0  0.395683   0.287770   0.316547  0.389704   \n",
       "1                           72.0  0.624582   0.238903   0.136516  0.612713   \n",
       "2                           88.0  0.390698   0.260465   0.348837  0.380496   \n",
       "3                           79.0  0.360875   0.287606   0.351519  0.354839   \n",
       "4                           76.0  0.651526   0.223380   0.125093  0.634855   \n",
       "\n",
       "    BW_Draw   BW_Lose  label  \n",
       "0  0.287782  0.322514   Draw  \n",
       "1  0.253365  0.133922   Draw  \n",
       "2  0.279776  0.339728   Lose  \n",
       "3  0.290323  0.354839    Win  \n",
       "4  0.224066  0.141079   Draw  \n",
       "\n",
       "[5 rows x 37 columns]"
      ]
     },
     "execution_count": 6,
     "metadata": {},
     "output_type": "execute_result"
    }
   ],
   "source": [
    "data_df.head()"
   ]
  },
  {
   "cell_type": "code",
   "execution_count": 7,
   "metadata": {
    "scrolled": true
   },
   "outputs": [
    {
     "data": {
      "text/plain": [
       "home_team_goals_difference         int64\n",
       "away_team_goals_difference         int64\n",
       "games_won_home_team                int64\n",
       "games_won_away_team                int64\n",
       "games_against_won                  int64\n",
       "games_against_lost                 int64\n",
       "League_21518                       int64\n",
       "League_24558                       int64\n",
       "home_player_1_overall_rating     float64\n",
       "home_player_2_overall_rating     float64\n",
       "home_player_3_overall_rating     float64\n",
       "home_player_4_overall_rating     float64\n",
       "home_player_5_overall_rating     float64\n",
       "home_player_6_overall_rating     float64\n",
       "home_player_7_overall_rating     float64\n",
       "home_player_8_overall_rating     float64\n",
       "home_player_9_overall_rating     float64\n",
       "home_player_10_overall_rating    float64\n",
       "home_player_11_overall_rating    float64\n",
       "away_player_1_overall_rating     float64\n",
       "away_player_2_overall_rating     float64\n",
       "away_player_3_overall_rating     float64\n",
       "away_player_4_overall_rating     float64\n",
       "away_player_5_overall_rating     float64\n",
       "away_player_6_overall_rating     float64\n",
       "away_player_7_overall_rating     float64\n",
       "away_player_8_overall_rating     float64\n",
       "away_player_9_overall_rating     float64\n",
       "away_player_10_overall_rating    float64\n",
       "away_player_11_overall_rating    float64\n",
       "B365_Win                         float64\n",
       "B365_Draw                        float64\n",
       "B365_Lose                        float64\n",
       "BW_Win                           float64\n",
       "BW_Draw                          float64\n",
       "BW_Lose                          float64\n",
       "label                             object\n",
       "dtype: object"
      ]
     },
     "execution_count": 7,
     "metadata": {},
     "output_type": "execute_result"
    }
   ],
   "source": [
    "data_df.dtypes"
   ]
  },
  {
   "cell_type": "markdown",
   "metadata": {},
   "source": [
    "### Obtemos el `input` y el `target` para los modelos"
   ]
  },
  {
   "cell_type": "markdown",
   "metadata": {},
   "source": [
    "> Obtenemos el `target`"
   ]
  },
  {
   "cell_type": "code",
   "execution_count": 8,
   "metadata": {},
   "outputs": [],
   "source": [
    "target_data = data_df.loc[:, 'label']"
   ]
  },
  {
   "cell_type": "code",
   "execution_count": 9,
   "metadata": {},
   "outputs": [
    {
     "name": "stdout",
     "output_type": "stream",
     "text": [
      "Shape 'target_data' = (322,)\n"
     ]
    },
    {
     "data": {
      "text/plain": [
       "0    Draw\n",
       "1    Draw\n",
       "2    Lose\n",
       "3     Win\n",
       "4    Draw\n",
       "Name: label, dtype: object"
      ]
     },
     "metadata": {},
     "output_type": "display_data"
    },
    {
     "name": "stdout",
     "output_type": "stream",
     "text": [
      "==============================\n"
     ]
    },
    {
     "data": {
      "text/plain": [
       "dtype('O')"
      ]
     },
     "metadata": {},
     "output_type": "display_data"
    }
   ],
   "source": [
    "print(\"Shape 'target_data' = {}\".format(target_data.shape))\n",
    "display(target_data.head())\n",
    "print('=' * 30)\n",
    "display(target_data.dtypes)"
   ]
  },
  {
   "cell_type": "code",
   "execution_count": 10,
   "metadata": {},
   "outputs": [
    {
     "data": {
      "text/plain": [
       "array(['Draw', 'Lose', 'Win'], dtype=object)"
      ]
     },
     "execution_count": 10,
     "metadata": {},
     "output_type": "execute_result"
    }
   ],
   "source": [
    "target_data.unique()"
   ]
  },
  {
   "cell_type": "code",
   "execution_count": 11,
   "metadata": {},
   "outputs": [
    {
     "data": {
      "text/plain": [
       "Win     155\n",
       "Lose     90\n",
       "Draw     77\n",
       "Name: label, dtype: int64"
      ]
     },
     "metadata": {},
     "output_type": "display_data"
    },
    {
     "data": {
      "image/png": "[encoded data removed]",
      "text/plain": [
       "<Figure size 720x360 with 1 Axes>"
      ]
     },
     "metadata": {},
     "output_type": "display_data"
    }
   ],
   "source": [
    "# TODO: Plotear la distribucion de los targets\n",
    "\n",
    "plt.figure(figsize=(10, 5))\n",
    "\n",
    "target_count = target_data.value_counts()\n",
    "display(target_count)\n",
    "my_order = [\"Win\", \"Lose\", \"Draw\"]\n",
    "\n",
    "sns.barplot(target_count.index, target_count.values, order = my_order, palette = sns.light_palette('pink'))\n",
    "plt.title('Distribucion de los Labels en el Dataset')\n",
    "plt.xlabel('Tags')\n",
    "plt.ylabel('Count')\n",
    "plt.show()"
   ]
  },
  {
   "cell_type": "markdown",
   "metadata": {},
   "source": [
    "> Obtenemos el `input_data`"
   ]
  },
  {
   "cell_type": "code",
   "execution_count": 12,
   "metadata": {},
   "outputs": [],
   "source": [
    "input_data = data_df.drop('label', axis=1)"
   ]
  },
  {
   "cell_type": "code",
   "execution_count": 13,
   "metadata": {
    "scrolled": true
   },
   "outputs": [
    {
     "name": "stdout",
     "output_type": "stream",
     "text": [
      "Shape 'input_data' = (322, 36)\n"
     ]
    },
    {
     "data": {
      "text/html": [
       "<div>\n",
       "<style scoped>\n",
       "    .dataframe tbody tr th:only-of-type {\n",
       "        vertical-align: middle;\n",
       "    }\n",
       "\n",
       "    .dataframe tbody tr th {\n",
       "        vertical-align: top;\n",
       "    }\n",
       "\n",
       "    .dataframe thead th {\n",
       "        text-align: right;\n",
       "    }\n",
       "</style>\n",
       "<table border=\"1\" class=\"dataframe\">\n",
       "  <thead>\n",
       "    <tr style=\"text-align: right;\">\n",
       "      <th></th>\n",
       "      <th>home_team_goals_difference</th>\n",
       "      <th>away_team_goals_difference</th>\n",
       "      <th>games_won_home_team</th>\n",
       "      <th>games_won_away_team</th>\n",
       "      <th>games_against_won</th>\n",
       "      <th>games_against_lost</th>\n",
       "      <th>League_21518</th>\n",
       "      <th>League_24558</th>\n",
       "      <th>home_player_1_overall_rating</th>\n",
       "      <th>home_player_2_overall_rating</th>\n",
       "      <th>...</th>\n",
       "      <th>away_player_8_overall_rating</th>\n",
       "      <th>away_player_9_overall_rating</th>\n",
       "      <th>away_player_10_overall_rating</th>\n",
       "      <th>away_player_11_overall_rating</th>\n",
       "      <th>B365_Win</th>\n",
       "      <th>B365_Draw</th>\n",
       "      <th>B365_Lose</th>\n",
       "      <th>BW_Win</th>\n",
       "      <th>BW_Draw</th>\n",
       "      <th>BW_Lose</th>\n",
       "    </tr>\n",
       "  </thead>\n",
       "  <tbody>\n",
       "    <tr>\n",
       "      <th>0</th>\n",
       "      <td>-5</td>\n",
       "      <td>-8</td>\n",
       "      <td>2</td>\n",
       "      <td>1</td>\n",
       "      <td>0</td>\n",
       "      <td>0</td>\n",
       "      <td>1</td>\n",
       "      <td>0</td>\n",
       "      <td>77.0</td>\n",
       "      <td>69.0</td>\n",
       "      <td>...</td>\n",
       "      <td>72.0</td>\n",
       "      <td>71.0</td>\n",
       "      <td>73.0</td>\n",
       "      <td>73.0</td>\n",
       "      <td>0.395683</td>\n",
       "      <td>0.287770</td>\n",
       "      <td>0.316547</td>\n",
       "      <td>0.389704</td>\n",
       "      <td>0.287782</td>\n",
       "      <td>0.322514</td>\n",
       "    </tr>\n",
       "    <tr>\n",
       "      <th>1</th>\n",
       "      <td>4</td>\n",
       "      <td>-2</td>\n",
       "      <td>4</td>\n",
       "      <td>1</td>\n",
       "      <td>0</td>\n",
       "      <td>0</td>\n",
       "      <td>1</td>\n",
       "      <td>0</td>\n",
       "      <td>76.0</td>\n",
       "      <td>79.0</td>\n",
       "      <td>...</td>\n",
       "      <td>74.0</td>\n",
       "      <td>76.0</td>\n",
       "      <td>71.0</td>\n",
       "      <td>72.0</td>\n",
       "      <td>0.624582</td>\n",
       "      <td>0.238903</td>\n",
       "      <td>0.136516</td>\n",
       "      <td>0.612713</td>\n",
       "      <td>0.253365</td>\n",
       "      <td>0.133922</td>\n",
       "    </tr>\n",
       "    <tr>\n",
       "      <th>2</th>\n",
       "      <td>18</td>\n",
       "      <td>7</td>\n",
       "      <td>6</td>\n",
       "      <td>6</td>\n",
       "      <td>0</td>\n",
       "      <td>0</td>\n",
       "      <td>1</td>\n",
       "      <td>0</td>\n",
       "      <td>81.0</td>\n",
       "      <td>81.0</td>\n",
       "      <td>...</td>\n",
       "      <td>88.0</td>\n",
       "      <td>78.0</td>\n",
       "      <td>90.0</td>\n",
       "      <td>88.0</td>\n",
       "      <td>0.390698</td>\n",
       "      <td>0.260465</td>\n",
       "      <td>0.348837</td>\n",
       "      <td>0.380496</td>\n",
       "      <td>0.279776</td>\n",
       "      <td>0.339728</td>\n",
       "    </tr>\n",
       "    <tr>\n",
       "      <th>3</th>\n",
       "      <td>1</td>\n",
       "      <td>1</td>\n",
       "      <td>2</td>\n",
       "      <td>3</td>\n",
       "      <td>0</td>\n",
       "      <td>0</td>\n",
       "      <td>1</td>\n",
       "      <td>0</td>\n",
       "      <td>79.0</td>\n",
       "      <td>65.0</td>\n",
       "      <td>...</td>\n",
       "      <td>79.0</td>\n",
       "      <td>81.0</td>\n",
       "      <td>81.0</td>\n",
       "      <td>79.0</td>\n",
       "      <td>0.360875</td>\n",
       "      <td>0.287606</td>\n",
       "      <td>0.351519</td>\n",
       "      <td>0.354839</td>\n",
       "      <td>0.290323</td>\n",
       "      <td>0.354839</td>\n",
       "    </tr>\n",
       "    <tr>\n",
       "      <th>4</th>\n",
       "      <td>1</td>\n",
       "      <td>1</td>\n",
       "      <td>3</td>\n",
       "      <td>1</td>\n",
       "      <td>0</td>\n",
       "      <td>0</td>\n",
       "      <td>1</td>\n",
       "      <td>0</td>\n",
       "      <td>74.0</td>\n",
       "      <td>73.0</td>\n",
       "      <td>...</td>\n",
       "      <td>69.0</td>\n",
       "      <td>67.0</td>\n",
       "      <td>76.0</td>\n",
       "      <td>76.0</td>\n",
       "      <td>0.651526</td>\n",
       "      <td>0.223380</td>\n",
       "      <td>0.125093</td>\n",
       "      <td>0.634855</td>\n",
       "      <td>0.224066</td>\n",
       "      <td>0.141079</td>\n",
       "    </tr>\n",
       "  </tbody>\n",
       "</table>\n",
       "<p>5 rows × 36 columns</p>\n",
       "</div>"
      ],
      "text/plain": [
       "   home_team_goals_difference  away_team_goals_difference  \\\n",
       "0                          -5                          -8   \n",
       "1                           4                          -2   \n",
       "2                          18                           7   \n",
       "3                           1                           1   \n",
       "4                           1                           1   \n",
       "\n",
       "   games_won_home_team  games_won_away_team  games_against_won  \\\n",
       "0                    2                    1                  0   \n",
       "1                    4                    1                  0   \n",
       "2                    6                    6                  0   \n",
       "3                    2                    3                  0   \n",
       "4                    3                    1                  0   \n",
       "\n",
       "   games_against_lost  League_21518  League_24558  \\\n",
       "0                   0             1             0   \n",
       "1                   0             1             0   \n",
       "2                   0             1             0   \n",
       "3                   0             1             0   \n",
       "4                   0             1             0   \n",
       "\n",
       "   home_player_1_overall_rating  home_player_2_overall_rating    ...     \\\n",
       "0                          77.0                          69.0    ...      \n",
       "1                          76.0                          79.0    ...      \n",
       "2                          81.0                          81.0    ...      \n",
       "3                          79.0                          65.0    ...      \n",
       "4                          74.0                          73.0    ...      \n",
       "\n",
       "   away_player_8_overall_rating  away_player_9_overall_rating  \\\n",
       "0                          72.0                          71.0   \n",
       "1                          74.0                          76.0   \n",
       "2                          88.0                          78.0   \n",
       "3                          79.0                          81.0   \n",
       "4                          69.0                          67.0   \n",
       "\n",
       "   away_player_10_overall_rating  away_player_11_overall_rating  B365_Win  \\\n",
       "0                           73.0                           73.0  0.395683   \n",
       "1                           71.0                           72.0  0.624582   \n",
       "2                           90.0                           88.0  0.390698   \n",
       "3                           81.0                           79.0  0.360875   \n",
       "4                           76.0                           76.0  0.651526   \n",
       "\n",
       "   B365_Draw  B365_Lose    BW_Win   BW_Draw   BW_Lose  \n",
       "0   0.287770   0.316547  0.389704  0.287782  0.322514  \n",
       "1   0.238903   0.136516  0.612713  0.253365  0.133922  \n",
       "2   0.260465   0.348837  0.380496  0.279776  0.339728  \n",
       "3   0.287606   0.351519  0.354839  0.290323  0.354839  \n",
       "4   0.223380   0.125093  0.634855  0.224066  0.141079  \n",
       "\n",
       "[5 rows x 36 columns]"
      ]
     },
     "metadata": {},
     "output_type": "display_data"
    },
    {
     "name": "stdout",
     "output_type": "stream",
     "text": [
      "==============================\n"
     ]
    },
    {
     "data": {
      "text/plain": [
       "home_team_goals_difference         int64\n",
       "away_team_goals_difference         int64\n",
       "games_won_home_team                int64\n",
       "games_won_away_team                int64\n",
       "games_against_won                  int64\n",
       "games_against_lost                 int64\n",
       "League_21518                       int64\n",
       "League_24558                       int64\n",
       "home_player_1_overall_rating     float64\n",
       "home_player_2_overall_rating     float64\n",
       "home_player_3_overall_rating     float64\n",
       "home_player_4_overall_rating     float64\n",
       "home_player_5_overall_rating     float64\n",
       "home_player_6_overall_rating     float64\n",
       "home_player_7_overall_rating     float64\n",
       "home_player_8_overall_rating     float64\n",
       "home_player_9_overall_rating     float64\n",
       "home_player_10_overall_rating    float64\n",
       "home_player_11_overall_rating    float64\n",
       "away_player_1_overall_rating     float64\n",
       "away_player_2_overall_rating     float64\n",
       "away_player_3_overall_rating     float64\n",
       "away_player_4_overall_rating     float64\n",
       "away_player_5_overall_rating     float64\n",
       "away_player_6_overall_rating     float64\n",
       "away_player_7_overall_rating     float64\n",
       "away_player_8_overall_rating     float64\n",
       "away_player_9_overall_rating     float64\n",
       "away_player_10_overall_rating    float64\n",
       "away_player_11_overall_rating    float64\n",
       "B365_Win                         float64\n",
       "B365_Draw                        float64\n",
       "B365_Lose                        float64\n",
       "BW_Win                           float64\n",
       "BW_Draw                          float64\n",
       "BW_Lose                          float64\n",
       "dtype: object"
      ]
     },
     "metadata": {},
     "output_type": "display_data"
    }
   ],
   "source": [
    "print(\"Shape 'input_data' = {}\".format(input_data.shape))\n",
    "display(input_data.head())\n",
    "print('=' * 30)\n",
    "display(input_data.dtypes)"
   ]
  },
  {
   "cell_type": "markdown",
   "metadata": {},
   "source": [
    "> ### División de datos en conjuntos de Entrenamiento, Validacion y Test\n",
    "\n",
    "La primer tarea consiste en dividir el conjunto de datos cargado en el apartado anterior en conjuntos de Entrenamiento (o _training_), Validacion (_validation_) y evaluación (o _test_).\n",
    "\n",
    "Utilizar aproximadamente 70% de los datos para Entrenamiento, 20% para Validacion y el 10% para Evaluacion.\n",
    "\n",
    "Links:\n",
    "* https://scikit-learn.org/stable/modules/generated/sklearn.model_selection.train_test_split.html"
   ]
  },
  {
   "cell_type": "code",
   "execution_count": 14,
   "metadata": {},
   "outputs": [
    {
     "name": "stdout",
     "output_type": "stream",
     "text": [
      "len: 322\n",
      "70%: 225.39999999999998\n",
      "20%: 64.4\n",
      "10%: 32.2\n"
     ]
    }
   ],
   "source": [
    "#\n",
    "\n",
    "print('len:', data_df.shape[0])\n",
    "print('70%:', data_df.shape[0] * .7)\n",
    "print('20%:', data_df.shape[0] * .2)\n",
    "print('10%:', data_df.shape[0] * .1)\n"
   ]
  },
  {
   "cell_type": "code",
   "execution_count": 15,
   "metadata": {},
   "outputs": [
    {
     "name": "stdout",
     "output_type": "stream",
     "text": [
      "X's: (225, 36) (65, 36) (32, 36)\n",
      "y's: (225,) (65,) (32,)\n",
      "len: 322\n"
     ]
    }
   ],
   "source": [
    "#train, valid, test...\n",
    "#...split.\n",
    "\n",
    "X = data_df.drop('label', axis = 1)\n",
    "y = data_df.loc[:, 'label']\n",
    "\n",
    "X_train, X_valid, y_train, y_valid = train_test_split(X, y, test_size = 0.2, random_state = 42)\n",
    "X_train, X_test, y_train, y_test = train_test_split(X_train, y_train, test_size = 0.123, random_state = 42)\n",
    "\n",
    "print(\"X's:\", X_train.shape, X_valid.shape, X_test.shape)\n",
    "print(\"y's:\", y_train.shape, y_valid.shape, y_test.shape)\n",
    "print(\"len:\", X_train.shape[0] + X_test.shape[0] + X_valid.shape[0])\n"
   ]
  },
  {
   "cell_type": "markdown",
   "metadata": {},
   "source": [
    "> ### Distribucion de los labels en los conjuntos de datos generados\n",
    "\n",
    "Mostrar en un grafico, como se distribuyen los labels en los conjuntos de datos generados.\n",
    "\n",
    "**Hint**: Usar graficos de barra (_bar plot_)."
   ]
  },
  {
   "cell_type": "code",
   "execution_count": 16,
   "metadata": {
    "scrolled": false
   },
   "outputs": [
    {
     "data": {
      "image/png": "[encoded data removed]",
      "text/plain": [
       "<Figure size 864x360 with 1 Axes>"
      ]
     },
     "metadata": {},
     "output_type": "display_data"
    }
   ],
   "source": [
    "#\n",
    "\n",
    "labels = pd.concat([pd.DataFrame(y_train).assign(dataset = 'y_train'), pd.DataFrame(y_valid).assign(dataset = 'y_valid'), pd.DataFrame(y_test).assign(dataset = 'y_test')])\n",
    "\n",
    "plt.figure(figsize = (12, 5))\n",
    "\n",
    "sns.countplot(data = labels, x = 'label', hue = 'dataset', color = 'pink')\n",
    "plt.title('Distribucion de los Labels en el Dataset', fontsize = 14)\n",
    "plt.xlabel('Labels', fontsize = 12)\n",
    "plt.ylabel('Count', fontsize = 12)\n",
    "\n",
    "plt.show()\n"
   ]
  },
  {
   "cell_type": "markdown",
   "metadata": {},
   "source": [
    "> ### Modelo Baseline\n",
    "\n",
    "Implementar un modelo Baseline usando, por ejemplo **Logistic Regression** sin ajuste de Hiperparametros.\n",
    "\n",
    "Calcular la accuracy en los conjuntos de entrenamiento y validacion."
   ]
  },
  {
   "cell_type": "code",
   "execution_count": 17,
   "metadata": {},
   "outputs": [
    {
     "name": "stdout",
     "output_type": "stream",
     "text": [
      "accuracy para entrenamiento: 0.62666667\n",
      "accuracy para    validación: 0.46153846\n"
     ]
    }
   ],
   "source": [
    "# TODO\n",
    "\n",
    "clf_baseline = LogisticRegression()\n",
    "clf_baseline.fit(X_train, y_train)\n",
    "\n",
    "print('accuracy para entrenamiento: %.8f' %  accuracy_score(y_train, clf_baseline.predict(X_train)))\n",
    "print('accuracy para    validación: %.8f' % accuracy_score(y_valid, clf_baseline.predict(X_valid)))\n"
   ]
  },
  {
   "cell_type": "markdown",
   "metadata": {},
   "source": [
    "> ### Seleccion de Clasificadores\n",
    "\n",
    "Comparar la performance entre clasificadores:\n",
    "* [RandomForestClassifier](https://scikit-learn.org/stable/modules/generated/sklearn.ensemble.RandomForestClassifier.html#sklearn.ensemble.RandomForestClassifier)\n",
    "* [AdaBoostClassifier](https://scikit-learn.org/stable/modules/generated/sklearn.ensemble.AdaBoostClassifier.html)\n",
    "* [KNeighborsClassifier](https://scikit-learn.org/stable/modules/generated/sklearn.neighbors.KNeighborsClassifier.html)\n",
    "* [LogisticRegression](https://scikit-learn.org/stable/modules/generated/sklearn.linear_model.LinearRegression.html)\n",
    "\n",
    "**Hint** para mejores resultados:\n",
    "* Usar [PCA](https://scikit-learn.org/stable/modules/generated/sklearn.decomposition.PCA.html) y [Grid Search](https://scikit-learn.org/stable/modules/generated/sklearn.model_selection.GridSearchCV.html)\n",
    "\n",
    "> **Plotear los resultados en un grafico**"
   ]
  },
  {
   "cell_type": "code",
   "execution_count": 18,
   "metadata": {},
   "outputs": [],
   "source": [
    "#\n",
    "\n",
    "test_score_dict = {\n",
    "    'clf_baseline': {\n",
    "        'train_score': accuracy_score(y_train, clf_baseline.predict(X_train)),\n",
    "        'valid_score': accuracy_score(y_valid, clf_baseline.predict(X_valid))\n",
    "    }\n",
    "}\n"
   ]
  },
  {
   "cell_type": "code",
   "execution_count": 19,
   "metadata": {},
   "outputs": [
    {
     "name": "stdout",
     "output_type": "stream",
     "text": [
      "% Varianza explicada de cada componente: [0.34342623 0.26223644 0.04099485 0.03397844]\n",
      "% Varianza explicada total: 0.6806359611548003\n"
     ]
    }
   ],
   "source": [
    "#escalamientos y embedding...\n",
    "from sklearn.preprocessing import StandardScaler\n",
    "\n",
    "#estandarizamos X's...\n",
    "sc = StandardScaler()\n",
    "X_train_sc = sc.fit_transform(X_train)\n",
    "X_valid_sc = sc.transform(X_valid)\n",
    "X_test_sc  = sc.transform(X_test)\n",
    "\n",
    "#PCA...\n",
    "pca = PCA(n_components = 4)\n",
    "X_train_pca = pca.fit_transform(X_train_sc)\n",
    "X_valid_pca = pca.transform(X_valid_sc)\n",
    "X_test_pca  = pca.transform(X_test_sc)\n",
    "\n",
    "print('% Varianza explicada de cada componente:', pca.explained_variance_ratio_)\n",
    "print('% Varianza explicada total:', sum(pca.explained_variance_ratio_))\n"
   ]
  },
  {
   "cell_type": "markdown",
   "metadata": {},
   "source": [
    "> ### 1. Random Forest"
   ]
  },
  {
   "cell_type": "code",
   "execution_count": 20,
   "metadata": {},
   "outputs": [
    {
     "name": "stdout",
     "output_type": "stream",
     "text": [
      "Mejor score: 0.5592226613965744\n",
      "\n",
      "Mejores parámetros: {'criterion': 'gini', 'max_depth': 3, 'max_features': 'auto', 'min_samples_leaf': 3, 'min_samples_split': 18, 'n_estimators': 5}\n",
      "\n",
      "Mejor combinación: RandomForestClassifier(bootstrap=True, class_weight=None, criterion='gini',\n",
      "            max_depth=3, max_features='auto', max_leaf_nodes=None,\n",
      "            min_impurity_decrease=0.0, min_impurity_split=None,\n",
      "            min_samples_leaf=3, min_samples_split=18,\n",
      "            min_weight_fraction_leaf=0.0, n_estimators=5, n_jobs=None,\n",
      "            oob_score=False, random_state=42, verbose=0, warm_start=False)\n"
     ]
    }
   ],
   "source": [
    "#construimos modelo...\n",
    "clf_RF = RandomForestClassifier(random_state = 42)\n",
    "\n",
    "#seteamos parámetros para el grid...\n",
    "parametros = {\n",
    "    'criterion': ['gini', 'entropy'],\n",
    "    'n_estimators': [5, 10, 20],\n",
    "    'max_depth': [2, 3, 5],\n",
    "    'min_samples_split': [18, 20, 22],\n",
    "    'min_samples_leaf': [3, 5, 7],\n",
    "    'max_features': ['auto', 'sqrt', 'log2', None]\n",
    "}\n",
    "\n",
    "grid_RF = GridSearchCV(clf_RF, param_grid = parametros, cv = 5, scoring = 'accuracy', n_jobs = -1, iid = False)\n",
    "grid_RF.fit(X_train_pca, y_train)\n",
    "\n",
    "#mejores...\n",
    "print('Mejor score: {}'.format(grid_RF.best_score_))\n",
    "print()\n",
    "print('Mejores parámetros: {}'.format(grid_RF.best_params_))\n",
    "print()\n",
    "print('Mejor combinación: {}'.format(grid_RF.best_estimator_))\n"
   ]
  },
  {
   "cell_type": "code",
   "execution_count": 21,
   "metadata": {},
   "outputs": [
    {
     "name": "stdout",
     "output_type": "stream",
     "text": [
      "accuracy para entrenamiento: 0.62666667\n",
      "accuracy para    validación: 0.56923077\n"
     ]
    }
   ],
   "source": [
    "#predicciones...\n",
    "\n",
    "print('accuracy para entrenamiento: %.8f' %  accuracy_score(y_train, grid_RF.predict(X_train_pca)))\n",
    "print('accuracy para    validación: %.8f' % accuracy_score(y_valid, grid_RF.predict(X_valid_pca)))\n",
    "\n",
    "test_score_dict['grid_RF'] = {\n",
    "    'train_score': accuracy_score(y_train, grid_RF.predict(X_train_pca)),\n",
    "    'valid_score': accuracy_score(y_valid, grid_RF.predict(X_valid_pca))\n",
    "}\n"
   ]
  },
  {
   "cell_type": "markdown",
   "metadata": {},
   "source": [
    "> ### 2. Ada Boost"
   ]
  },
  {
   "cell_type": "code",
   "execution_count": 22,
   "metadata": {},
   "outputs": [
    {
     "name": "stdout",
     "output_type": "stream",
     "text": [
      "Mejor score: 0.5335397452788757\n",
      "\n",
      "Mejores parámetros: {'algorithm': 'SAMME', 'learning_rate': 0.01, 'n_estimators': 350}\n",
      "\n",
      "Mejor combinación: AdaBoostClassifier(algorithm='SAMME', base_estimator=None, learning_rate=0.01,\n",
      "          n_estimators=350, random_state=42)\n"
     ]
    }
   ],
   "source": [
    "#construimos modelo...\n",
    "clf_AB = AdaBoostClassifier(random_state = 42)\n",
    "\n",
    "#seteamos parámetros para el grid...\n",
    "parametros = {\n",
    "    'n_estimators': [250, 300, 350],\n",
    "    'learning_rate': [.001, .01, 1],\n",
    "    'algorithm': ['SAMME', 'SAMME.R']\n",
    "}\n",
    "\n",
    "grid_AB = GridSearchCV(clf_AB, param_grid = parametros, cv = 5, scoring = 'accuracy', n_jobs = -1, iid = False)\n",
    "grid_AB.fit(X_train_pca, y_train)\n",
    "\n",
    "#mejores...\n",
    "print('Mejor score: {}'.format(grid_AB.best_score_))\n",
    "print()\n",
    "print('Mejores parámetros: {}'.format(grid_AB.best_params_))\n",
    "print()\n",
    "print('Mejor combinación: {}'.format(grid_AB.best_estimator_))\n"
   ]
  },
  {
   "cell_type": "code",
   "execution_count": 23,
   "metadata": {},
   "outputs": [
    {
     "name": "stdout",
     "output_type": "stream",
     "text": [
      "accuracy para entrenamiento: 0.54222222\n",
      "accuracy para    validación: 0.52307692\n"
     ]
    }
   ],
   "source": [
    "#predicciones...\n",
    "\n",
    "print('accuracy para entrenamiento: %.8f' %  accuracy_score(y_train, grid_AB.predict(X_train_pca)))\n",
    "print('accuracy para    validación: %.8f' % accuracy_score(y_valid, grid_AB.predict(X_valid_pca)))\n",
    "\n",
    "test_score_dict['grid_AB'] = {\n",
    "    'train_score': accuracy_score(y_train, grid_AB.predict(X_train_pca)),\n",
    "    'valid_score': accuracy_score(y_valid, grid_AB.predict(X_valid_pca))\n",
    "}\n"
   ]
  },
  {
   "cell_type": "markdown",
   "metadata": {},
   "source": [
    "> ### 3. K-Neighbors"
   ]
  },
  {
   "cell_type": "code",
   "execution_count": 24,
   "metadata": {},
   "outputs": [
    {
     "name": "stdout",
     "output_type": "stream",
     "text": [
      "Mejor score: 0.5733421168203777\n",
      "\n",
      "Mejores parámetros: {'algorithm': 'auto', 'leaf_size': 30, 'metric': 'minkowski', 'n_neighbors': 25, 'p': 2, 'weights': 'uniform'}\n",
      "\n",
      "Mejor combinación: KNeighborsClassifier(algorithm='auto', leaf_size=30, metric='minkowski',\n",
      "           metric_params=None, n_jobs=None, n_neighbors=25, p=2,\n",
      "           weights='uniform')\n"
     ]
    }
   ],
   "source": [
    "#construimos modelo...\n",
    "clf_KNN = KNeighborsClassifier()\n",
    "\n",
    "#seteamos parámetros para el grid...\n",
    "parametros = {\n",
    "    'n_neighbors': range(20, 30),\n",
    "    'weights': ['uniform', 'distance'],\n",
    "    'algorithm': ['auto', 'ball_tree', 'kd_tree', 'brute'],\n",
    "    'metric': ['minkowski', 'euclidean', 'manhattan'],\n",
    "    'leaf_size': [30, 40, 50],\n",
    "    'p': [1, 2]\n",
    "}\n",
    "\n",
    "grid_KNN = GridSearchCV(clf_KNN, param_grid = parametros, cv = 5, scoring = 'accuracy', n_jobs = -1, iid = False)\n",
    "grid_KNN.fit(X_train_pca, y_train)\n",
    "\n",
    "#mejores...\n",
    "print('Mejor score: {}'.format(grid_KNN.best_score_))\n",
    "print()\n",
    "print('Mejores parámetros: {}'.format(grid_KNN.best_params_))\n",
    "print()\n",
    "print('Mejor combinación: {}'.format(grid_KNN.best_estimator_))\n"
   ]
  },
  {
   "cell_type": "code",
   "execution_count": 25,
   "metadata": {},
   "outputs": [
    {
     "name": "stdout",
     "output_type": "stream",
     "text": [
      "accuracy para entrenamiento: 0.58222222\n",
      "accuracy para    validación: 0.46153846\n"
     ]
    }
   ],
   "source": [
    "#predicciones...\n",
    "\n",
    "print('accuracy para entrenamiento: %.8f' %  accuracy_score(y_train, grid_KNN.predict(X_train_pca)))\n",
    "print('accuracy para    validación: %.8f' % accuracy_score(y_valid, grid_KNN.predict(X_valid_pca)))\n",
    "\n",
    "test_score_dict['grid_KNN'] = {\n",
    "    'train_score': accuracy_score(y_train, grid_KNN.predict(X_train_pca)),\n",
    "    'valid_score': accuracy_score(y_valid, grid_KNN.predict(X_valid_pca))\n",
    "}\n"
   ]
  },
  {
   "cell_type": "markdown",
   "metadata": {},
   "source": [
    "> ### 4. Logistic Regression"
   ]
  },
  {
   "cell_type": "code",
   "execution_count": 26,
   "metadata": {},
   "outputs": [
    {
     "name": "stdout",
     "output_type": "stream",
     "text": [
      "Mejor score: 0.5424198506807203\n",
      "\n",
      "Mejores parámetros: {'C': 1000.0, 'max_iter': 5, 'penalty': 'l1', 'solver': 'saga'}\n",
      "\n",
      "Mejor combinación: LogisticRegression(C=1000.0, class_weight=None, dual=False,\n",
      "          fit_intercept=True, intercept_scaling=1, max_iter=5,\n",
      "          multi_class='warn', n_jobs=None, penalty='l1', random_state=None,\n",
      "          solver='saga', tol=0.0001, verbose=0, warm_start=False)\n"
     ]
    }
   ],
   "source": [
    "#construimos modelo...\n",
    "clf_LG = LogisticRegression()\n",
    "\n",
    "#seteamos parámetros para el grid...\n",
    "parametros = {\n",
    "    'C': np.logspace(-3, 3, 7),\n",
    "    'penalty': ['l1', 'l2'],\n",
    "    'solver': ['liblinear', 'saga'],\n",
    "    'max_iter': [5, 20, 100, 1000, 2000]\n",
    "}\n",
    "\n",
    "grid_LG = GridSearchCV(clf_LG, param_grid = parametros, cv = 5, scoring = 'accuracy', n_jobs = -1, iid = False)\n",
    "grid_LG.fit(X_train_pca, y_train)\n",
    "\n",
    "#mejores...\n",
    "print('Mejor score: {}'.format(grid_LG.best_score_))\n",
    "print()\n",
    "print('Mejores parámetros: {}'.format(grid_LG.best_params_))\n",
    "print()\n",
    "print('Mejor combinación: {}'.format(grid_LG.best_estimator_))\n"
   ]
  },
  {
   "cell_type": "code",
   "execution_count": 27,
   "metadata": {},
   "outputs": [
    {
     "name": "stdout",
     "output_type": "stream",
     "text": [
      "accuracy para entrenamiento: 0.55555556\n",
      "accuracy para    validación: 0.46153846\n"
     ]
    }
   ],
   "source": [
    "#predicciones...\n",
    "\n",
    "print('accuracy para entrenamiento: %.8f' %  accuracy_score(y_train, grid_LG.predict(X_train_pca)))\n",
    "print('accuracy para    validación: %.8f' % accuracy_score(y_valid, grid_LG.predict(X_valid_pca)))\n",
    "\n",
    "test_score_dict['grid_LG'] = {\n",
    "    'train_score': accuracy_score(y_train, grid_LG.predict(X_train_pca)),\n",
    "    'valid_score': accuracy_score(y_valid, grid_LG.predict(X_valid_pca))\n",
    "}\n"
   ]
  },
  {
   "cell_type": "markdown",
   "metadata": {},
   "source": [
    "> ### Matriz de Confusion\n",
    "\n",
    "Plotear la matriz de confusion del mejor modelo sobre el conjunto de **Test**.\n",
    "\n",
    "**Hint**: Usar la funcion `plot_confusion_matrix` del modulo `utils`."
   ]
  },
  {
   "cell_type": "code",
   "execution_count": 28,
   "metadata": {},
   "outputs": [
    {
     "data": {
      "text/html": [
       "<style  type=\"text/css\" >\n",
       "    #T_6925163a_e3c2_11e9_96b3_3c0771668bc7row0_col0 {\n",
       "            background-color:  pink;\n",
       "        }    #T_6925163a_e3c2_11e9_96b3_3c0771668bc7row0_col1 {\n",
       "            background-color:  pink;\n",
       "        }    #T_6925163a_e3c2_11e9_96b3_3c0771668bc7row1_col1 {\n",
       "            background-color:  pink;\n",
       "        }</style>  \n",
       "<table id=\"T_6925163a_e3c2_11e9_96b3_3c0771668bc7\" > \n",
       "<thead>    <tr> \n",
       "        <th class=\"blank level0\" ></th> \n",
       "        <th class=\"col_heading level0 col0\" >clf_baseline</th> \n",
       "        <th class=\"col_heading level0 col1\" >grid_RF</th> \n",
       "        <th class=\"col_heading level0 col2\" >grid_AB</th> \n",
       "        <th class=\"col_heading level0 col3\" >grid_KNN</th> \n",
       "        <th class=\"col_heading level0 col4\" >grid_LG</th> \n",
       "    </tr></thead> \n",
       "<tbody>    <tr> \n",
       "        <th id=\"T_6925163a_e3c2_11e9_96b3_3c0771668bc7level0_row0\" class=\"row_heading level0 row0\" >train_score</th> \n",
       "        <td id=\"T_6925163a_e3c2_11e9_96b3_3c0771668bc7row0_col0\" class=\"data row0 col0\" >0.626667</td> \n",
       "        <td id=\"T_6925163a_e3c2_11e9_96b3_3c0771668bc7row0_col1\" class=\"data row0 col1\" >0.626667</td> \n",
       "        <td id=\"T_6925163a_e3c2_11e9_96b3_3c0771668bc7row0_col2\" class=\"data row0 col2\" >0.542222</td> \n",
       "        <td id=\"T_6925163a_e3c2_11e9_96b3_3c0771668bc7row0_col3\" class=\"data row0 col3\" >0.582222</td> \n",
       "        <td id=\"T_6925163a_e3c2_11e9_96b3_3c0771668bc7row0_col4\" class=\"data row0 col4\" >0.555556</td> \n",
       "    </tr>    <tr> \n",
       "        <th id=\"T_6925163a_e3c2_11e9_96b3_3c0771668bc7level0_row1\" class=\"row_heading level0 row1\" >valid_score</th> \n",
       "        <td id=\"T_6925163a_e3c2_11e9_96b3_3c0771668bc7row1_col0\" class=\"data row1 col0\" >0.461538</td> \n",
       "        <td id=\"T_6925163a_e3c2_11e9_96b3_3c0771668bc7row1_col1\" class=\"data row1 col1\" >0.569231</td> \n",
       "        <td id=\"T_6925163a_e3c2_11e9_96b3_3c0771668bc7row1_col2\" class=\"data row1 col2\" >0.523077</td> \n",
       "        <td id=\"T_6925163a_e3c2_11e9_96b3_3c0771668bc7row1_col3\" class=\"data row1 col3\" >0.461538</td> \n",
       "        <td id=\"T_6925163a_e3c2_11e9_96b3_3c0771668bc7row1_col4\" class=\"data row1 col4\" >0.461538</td> \n",
       "    </tr></tbody> \n",
       "</table> "
      ],
      "text/plain": [
       "<pandas.io.formats.style.Styler at 0x14be6d969b0>"
      ]
     },
     "execution_count": 28,
     "metadata": {},
     "output_type": "execute_result"
    }
   ],
   "source": [
    "#mejor modelo...\n",
    "\n",
    "def highlight_max(s):\n",
    "    is_max = s == s.max()\n",
    "    return ['' if v else '' for v in is_max]\n",
    "\n",
    "pd.DataFrame(test_score_dict).style.highlight_max(color = 'pink', axis = 1)\n"
   ]
  },
  {
   "cell_type": "code",
   "execution_count": 29,
   "metadata": {},
   "outputs": [
    {
     "name": "stdout",
     "output_type": "stream",
     "text": [
      "Confusion matrix, without normalization\n",
      "[[12  0  3]\n",
      " [ 4  5  0]\n",
      " [ 6  2  0]]\n"
     ]
    },
    {
     "data": {
      "image/png": "[encoded data removed]",
      "text/plain": [
       "<Figure size 576x576 with 2 Axes>"
      ]
     },
     "metadata": {},
     "output_type": "display_data"
    }
   ],
   "source": [
    "#matriz de confusión...\n",
    "\n",
    "plot_confusion_matrix(y_test, grid_RF.predict(X_test_pca), my_order, normalize = False)\n",
    "\n",
    "plt.show()\n"
   ]
  },
  {
   "cell_type": "markdown",
   "metadata": {},
   "source": [
    "> ### Classification Report\n",
    "\n",
    "Imprimir el `classification_report` y explicar lo que refleja este reporte."
   ]
  },
  {
   "cell_type": "code",
   "execution_count": 30,
   "metadata": {},
   "outputs": [
    {
     "name": "stdout",
     "output_type": "stream",
     "text": [
      "              precision    recall  f1-score   support\n",
      "\n",
      "        Draw       0.00      0.00      0.00         8\n",
      "        Lose       0.71      0.56      0.63         9\n",
      "         Win       0.55      0.80      0.65        15\n",
      "\n",
      "   micro avg       0.53      0.53      0.53        32\n",
      "   macro avg       0.42      0.45      0.42        32\n",
      "weighted avg       0.46      0.53      0.48        32\n",
      "\n"
     ]
    }
   ],
   "source": [
    "#resumen de clasificación...\n",
    "\n",
    "print(classification_report(y_test, grid_RF.predict(X_test_pca), target_names = ['Draw', 'Lose', 'Win']))\n"
   ]
  },
  {
   "cell_type": "markdown",
   "metadata": {},
   "source": [
    "<h5><FONT COLOR=\"#FF0000\"> Es un informe resumen de las principales métricas de clasificación: precisión, recall, f1-score y el soporte (o cantidad de observaciones de cada clase en el conjunto).</FONT></h5>"
   ]
  },
  {
   "cell_type": "markdown",
   "metadata": {},
   "source": [
    "---\n",
    "\n",
    "**Comunicación de Resultados**\n",
    "\n",
    "Se pide que toda esta información no quede plasmada solamente en un Jupyter Notebook, sino que se diagrame una comunicación en formato textual o interactivo (Google Docs, PDF o Markdown por ejemplo).\n",
    "\n",
    "La comunicación debe estar apuntada a un público técnico pero sin conocimiento del tema particular, como por ejemplo, sus compañeros de clase."
   ]
  },
  {
   "cell_type": "code",
   "execution_count": null,
   "metadata": {},
   "outputs": [],
   "source": []
  }
 ],
 "metadata": {
  "kernelspec": {
   "display_name": "Python 3",
   "language": "python",
   "name": "python3"
  },
  "language_info": {
   "codemirror_mode": {
    "name": "ipython",
    "version": 3
   },
   "file_extension": ".py",
   "mimetype": "text/x-python",
   "name": "python",
   "nbconvert_exporter": "python",
   "pygments_lexer": "ipython3",
   "version": "3.6.7"
  }
 },
 "nbformat": 4,
 "nbformat_minor": 4
}
